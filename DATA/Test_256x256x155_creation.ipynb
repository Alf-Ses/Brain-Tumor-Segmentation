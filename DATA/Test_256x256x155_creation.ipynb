{
 "cells": [
  {
   "cell_type": "code",
   "execution_count": 16,
   "metadata": {},
   "outputs": [],
   "source": [
    "import numpy as np\n",
    "import os\n",
    "import numpy as np\n",
    "import nibabel as nib\n",
    "import os\n",
    "import matplotlib.pyplot as plt\n",
    "import ipywidgets as widgets\n",
    "from IPython.display import display\n",
    "import random"
   ]
  },
  {
   "cell_type": "code",
   "execution_count": 7,
   "metadata": {},
   "outputs": [
    {
     "name": "stdout",
     "output_type": "stream",
     "text": [
      "73 73\n"
     ]
    }
   ],
   "source": [
    "img_dir = 'data/Test/X_test'\n",
    "mask_dir = 'data/Test/Y_test'\n",
    "\n",
    "img_list = sorted(os.listdir(img_dir))\n",
    "mask_list = sorted(os.listdir(mask_dir))\n",
    "\n",
    "print(len(img_list), len(mask_list))"
   ]
  },
  {
   "cell_type": "code",
   "execution_count": 9,
   "metadata": {},
   "outputs": [],
   "source": [
    "def pad_to_256x256(x_test, y_test):\n",
    "    # Controlla se le profondità sono uguali\n",
    "    x_depth = x_test.shape[2]\n",
    "    y_depth = y_test.shape[2]\n",
    "\n",
    "    if x_depth != y_depth:\n",
    "        raise ValueError(\"Le dimensioni in profondità di x_test e y_test devono essere uguali.\")\n",
    "\n",
    "    # Pad per x_test (240, 240, 155, 4) -> (256, 256, 155, 4)\n",
    "    x_padded = np.pad(x_test, ((8, 8), (8, 8), (0, 0), (0, 0)), mode = 'constant', constant_values = 0)\n",
    "\n",
    "    # Pad per y_test (240, 240, 155, 4) -> (256, 256, 155, 4)\n",
    "    y_padded = np.pad(y_test, ((8, 8), (8, 8), (0, 0), (0, 0)), mode = 'constant', constant_values = 0)\n",
    "\n",
    "    # Impostare la classe 0 per i bordi aggiunti\n",
    "    y_padded[:8, :, :, 0] = 1\n",
    "    y_padded[-8:, :, :, 0] = 1\n",
    "    y_padded[:, :8, :, 0] = 1\n",
    "    y_padded[:, -8:, :, 0] = 1\n",
    "\n",
    "    return x_padded, y_padded"
   ]
  },
  {
   "cell_type": "code",
   "execution_count": 38,
   "metadata": {},
   "outputs": [],
   "source": [
    "for i in range(len(img_list)):\n",
    "    \n",
    "    img =np.load(os.path.join(img_dir, img_list[i]))\n",
    "    mask = np.load(os.path.join(mask_dir, mask_list[i]))\n",
    "    \n",
    "    pad_img, pad_mask = pad_to_256x256(img, mask)\n",
    "    \n",
    "    np.save(os.path.join('data/test_256x256x155/X_test', img_list[i]), pad_img)\n",
    "    np.save(os.path.join('data/test_256x256x155/Y_test', mask_list[i]), pad_mask)\n",
    "      "
   ]
  }
 ],
 "metadata": {
  "kernelspec": {
   "display_name": "Python 3",
   "language": "python",
   "name": "python3"
  },
  "language_info": {
   "codemirror_mode": {
    "name": "ipython",
    "version": 3
   },
   "file_extension": ".py",
   "mimetype": "text/x-python",
   "name": "python",
   "nbconvert_exporter": "python",
   "pygments_lexer": "ipython3",
   "version": "3.12.2"
  }
 },
 "nbformat": 4,
 "nbformat_minor": 2
}
